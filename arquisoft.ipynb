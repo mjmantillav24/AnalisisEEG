{
  "cells": [
    {
      "cell_type": "markdown",
      "metadata": {
        "id": "view-in-github",
        "colab_type": "text"
      },
      "source": [
        "<a href=\"https://colab.research.google.com/github/mjmantillav24/AnalisisEEG/blob/main/arquisoft.ipynb\" target=\"_parent\"><img src=\"https://colab.research.google.com/assets/colab-badge.svg\" alt=\"Open In Colab\"/></a>"
      ]
    },
    {
      "cell_type": "code",
      "source": [
        "from google.colab import drive\n",
        "drive.mount('/content/drive')\n"
      ],
      "metadata": {
        "id": "IqmNeHoirKkE",
        "colab": {
          "base_uri": "https://localhost:8080/"
        },
        "outputId": "93800120-7e79-4f93-9b1d-397bc7653fa5"
      },
      "execution_count": 1,
      "outputs": [
        {
          "output_type": "stream",
          "name": "stdout",
          "text": [
            "Mounted at /content/drive\n"
          ]
        }
      ]
    },
    {
      "cell_type": "code",
      "source": [
        "!pip install pyngrok\n",
        "!ngrok authtoken 2uH83kbgWxd66wREnyRDfCvUIjH_RZyRKbmaUHsBhLzdKtPk\n",
        "\n",
        "\n"
      ],
      "metadata": {
        "colab": {
          "base_uri": "https://localhost:8080/"
        },
        "id": "fE4Iv-FW9Iqv",
        "outputId": "4e7682c7-c577-4383-a7a8-e0c5d5ebcb30"
      },
      "execution_count": 5,
      "outputs": [
        {
          "output_type": "stream",
          "name": "stdout",
          "text": [
            "Requirement already satisfied: pyngrok in /usr/local/lib/python3.11/dist-packages (7.2.3)\n",
            "Requirement already satisfied: PyYAML>=5.1 in /usr/local/lib/python3.11/dist-packages (from pyngrok) (6.0.2)\n",
            "Authtoken saved to configuration file: /root/.config/ngrok/ngrok.yml\n"
          ]
        }
      ]
    },
    {
      "cell_type": "code",
      "source": [
        "from pyngrok import ngrok\n",
        "\n",
        "# Crear un túnel para el puerto 5000 donde corre Flask\n",
        "public_url = ngrok.connect(5000)\n",
        "print(\"Servidor accesible en:\", public_url)\n"
      ],
      "metadata": {
        "colab": {
          "base_uri": "https://localhost:8080/"
        },
        "id": "571bbY_c-nWG",
        "outputId": "627bd595-91c9-4de5-cee9-4e79b11c23e7"
      },
      "execution_count": 8,
      "outputs": [
        {
          "output_type": "stream",
          "name": "stdout",
          "text": [
            "Servidor accesible en: NgrokTunnel: \"https://e67d-35-245-50-18.ngrok-free.app\" -> \"http://localhost:5000\"\n"
          ]
        }
      ]
    },
    {
      "cell_type": "code",
      "source": [
        "!curl http://localhost:4040/api/tunnels\n",
        "\n",
        "\n",
        "\n"
      ],
      "metadata": {
        "colab": {
          "base_uri": "https://localhost:8080/"
        },
        "id": "zbfwd8V8Y-TI",
        "outputId": "b5a6d6f8-db6f-4dd1-a669-0dfdf2ee8978"
      },
      "execution_count": 15,
      "outputs": [
        {
          "output_type": "stream",
          "name": "stdout",
          "text": [
            "{\"tunnels\":[{\"name\":\"http-5000-96d9005f-9dba-4901-9f79-b4aa69582721\",\"ID\":\"33199bf8ee187f59932902f230d62012\",\"uri\":\"/api/tunnels/http-5000-96d9005f-9dba-4901-9f79-b4aa69582721\",\"public_url\":\"https://dde0-35-245-50-18.ngrok-free.app\",\"proto\":\"https\",\"config\":{\"addr\":\"http://localhost:5000\",\"inspect\":true},\"metrics\":{\"conns\":{\"count\":0,\"gauge\":0,\"rate1\":0,\"rate5\":0,\"rate15\":0,\"p50\":0,\"p90\":0,\"p95\":0,\"p99\":0},\"http\":{\"count\":0,\"rate1\":0,\"rate5\":0,\"rate15\":0,\"p50\":0,\"p90\":0,\"p95\":0,\"p99\":0}}},{\"name\":\"http-5000-d54e0e3c-09e8-49c4-ab68-15780dbdace8\",\"ID\":\"bec33753bed8884777cf5cdc268218dd\",\"uri\":\"/api/tunnels/http-5000-d54e0e3c-09e8-49c4-ab68-15780dbdace8\",\"public_url\":\"https://e67d-35-245-50-18.ngrok-free.app\",\"proto\":\"https\",\"config\":{\"addr\":\"http://localhost:5000\",\"inspect\":true},\"metrics\":{\"conns\":{\"count\":1,\"gauge\":0,\"rate1\":0.00010774729930169493,\"rate5\":0.001216102466295947,\"rate15\":0.0007939384739658664,\"p50\":3773925,\"p90\":3773925,\"p95\":3773925,\"p99\":3773925},\"http\":{\"count\":1,\"rate1\":0.00010774729930169493,\"rate5\":0.001216102466295947,\"rate15\":0.0007939384739658664,\"p50\":947221,\"p90\":947221,\"p95\":947221,\"p99\":947221}}}],\"uri\":\"/api/tunnels\"}\n"
          ]
        }
      ]
    },
    {
      "cell_type": "code",
      "source": [
        "!pip install mne"
      ],
      "metadata": {
        "colab": {
          "base_uri": "https://localhost:8080/"
        },
        "id": "nrT3jaaP6foQ",
        "outputId": "80e2b070-cc64-4642-f0f4-1aa951d2c077"
      },
      "execution_count": 7,
      "outputs": [
        {
          "output_type": "stream",
          "name": "stdout",
          "text": [
            "Collecting mne\n",
            "  Downloading mne-1.9.0-py3-none-any.whl.metadata (20 kB)\n",
            "Requirement already satisfied: decorator in /usr/local/lib/python3.11/dist-packages (from mne) (4.4.2)\n",
            "Requirement already satisfied: jinja2 in /usr/local/lib/python3.11/dist-packages (from mne) (3.1.6)\n",
            "Requirement already satisfied: lazy-loader>=0.3 in /usr/local/lib/python3.11/dist-packages (from mne) (0.4)\n",
            "Requirement already satisfied: matplotlib>=3.6 in /usr/local/lib/python3.11/dist-packages (from mne) (3.10.0)\n",
            "Requirement already satisfied: numpy<3,>=1.23 in /usr/local/lib/python3.11/dist-packages (from mne) (1.26.4)\n",
            "Requirement already satisfied: packaging in /usr/local/lib/python3.11/dist-packages (from mne) (24.2)\n",
            "Requirement already satisfied: pooch>=1.5 in /usr/local/lib/python3.11/dist-packages (from mne) (1.8.2)\n",
            "Requirement already satisfied: scipy>=1.9 in /usr/local/lib/python3.11/dist-packages (from mne) (1.14.1)\n",
            "Requirement already satisfied: tqdm in /usr/local/lib/python3.11/dist-packages (from mne) (4.67.1)\n",
            "Requirement already satisfied: contourpy>=1.0.1 in /usr/local/lib/python3.11/dist-packages (from matplotlib>=3.6->mne) (1.3.1)\n",
            "Requirement already satisfied: cycler>=0.10 in /usr/local/lib/python3.11/dist-packages (from matplotlib>=3.6->mne) (0.12.1)\n",
            "Requirement already satisfied: fonttools>=4.22.0 in /usr/local/lib/python3.11/dist-packages (from matplotlib>=3.6->mne) (4.56.0)\n",
            "Requirement already satisfied: kiwisolver>=1.3.1 in /usr/local/lib/python3.11/dist-packages (from matplotlib>=3.6->mne) (1.4.8)\n",
            "Requirement already satisfied: pillow>=8 in /usr/local/lib/python3.11/dist-packages (from matplotlib>=3.6->mne) (11.1.0)\n",
            "Requirement already satisfied: pyparsing>=2.3.1 in /usr/local/lib/python3.11/dist-packages (from matplotlib>=3.6->mne) (3.2.1)\n",
            "Requirement already satisfied: python-dateutil>=2.7 in /usr/local/lib/python3.11/dist-packages (from matplotlib>=3.6->mne) (2.8.2)\n",
            "Requirement already satisfied: platformdirs>=2.5.0 in /usr/local/lib/python3.11/dist-packages (from pooch>=1.5->mne) (4.3.6)\n",
            "Requirement already satisfied: requests>=2.19.0 in /usr/local/lib/python3.11/dist-packages (from pooch>=1.5->mne) (2.32.3)\n",
            "Requirement already satisfied: MarkupSafe>=2.0 in /usr/local/lib/python3.11/dist-packages (from jinja2->mne) (3.0.2)\n",
            "Requirement already satisfied: six>=1.5 in /usr/local/lib/python3.11/dist-packages (from python-dateutil>=2.7->matplotlib>=3.6->mne) (1.17.0)\n",
            "Requirement already satisfied: charset-normalizer<4,>=2 in /usr/local/lib/python3.11/dist-packages (from requests>=2.19.0->pooch>=1.5->mne) (3.4.1)\n",
            "Requirement already satisfied: idna<4,>=2.5 in /usr/local/lib/python3.11/dist-packages (from requests>=2.19.0->pooch>=1.5->mne) (3.10)\n",
            "Requirement already satisfied: urllib3<3,>=1.21.1 in /usr/local/lib/python3.11/dist-packages (from requests>=2.19.0->pooch>=1.5->mne) (2.3.0)\n",
            "Requirement already satisfied: certifi>=2017.4.17 in /usr/local/lib/python3.11/dist-packages (from requests>=2.19.0->pooch>=1.5->mne) (2025.1.31)\n",
            "Downloading mne-1.9.0-py3-none-any.whl (7.4 MB)\n",
            "\u001b[2K   \u001b[90m━━━━━━━━━━━━━━━━━━━━━━━━━━━━━━━━━━━━━━━━\u001b[0m \u001b[32m7.4/7.4 MB\u001b[0m \u001b[31m93.2 MB/s\u001b[0m eta \u001b[36m0:00:00\u001b[0m\n",
            "\u001b[?25hInstalling collected packages: mne\n",
            "Successfully installed mne-1.9.0\n"
          ]
        }
      ]
    },
    {
      "cell_type": "code",
      "source": [
        "from flask import Flask, request\n",
        "import threading\n",
        "import mne\n",
        "import torch\n",
        "import torch.nn as nn\n",
        "import torch.optim as optim\n",
        "import torch.nn.functional as F\n",
        "import numpy as np\n",
        "import os\n",
        "\n",
        "\n",
        "app = Flask(__name__)\n",
        "\n",
        "\n",
        "# 🔹 2. Definir la ruta del modelo en Google Drive\n",
        "MODEL_PATH = \"/content/drive/MyDrive/modelo_completo.pth\"  # Ajusta la ruta según tu Drive\n",
        "\n",
        "@app.route('/upload', methods=['POST'])\n",
        "def upload_file():\n",
        "    \"\"\"Recibe un archivo desde la VM y lo guarda en Colab\"\"\"\n",
        "    file = request.files['file']\n",
        "    file_path = f\"/content/{file.filename}\"\n",
        "    file.save(file_path)  # Guarda el archivo en Colab\n",
        "     # 🔹 Hacer la predicción\n",
        "    resultado = iniciar(file_path)  # Llama a la función de predicción\n",
        "    return {\"mensaje\": resultado}, 200\n",
        "\n",
        "def run_server():\n",
        "    \"\"\"Ejecuta el servidor en un hilo separado\"\"\"\n",
        "    app.run(host='0.0.0.0', port=5000)\n",
        "\n",
        "# Iniciar el servidor sin bloquear el notebook\n",
        "threading.Thread(target=run_server).start()\n",
        "\n",
        "# 🔹 Definir el modelo CNN\n",
        "class EEG_CNN(nn.Module):\n",
        "    def __init__(self, num_classes=4):\n",
        "        super(EEG_CNN, self).__init__()\n",
        "        self.conv1 = nn.Conv2d(1, 32, kernel_size=(3, 5), padding=(1, 2))\n",
        "        self.conv2 = nn.Conv2d(32, 64, kernel_size=(3, 5), padding=(1, 2))\n",
        "        self.conv3 = nn.Conv2d(64, 128, kernel_size=(3, 5), padding=(1, 2))\n",
        "        self.pool = nn.MaxPool2d(kernel_size=(2, 2))\n",
        "        self.flatten_size = 128 * 2 * 62\n",
        "        self.fc1 = nn.Linear(self.flatten_size, 512)\n",
        "        self.fc2 = nn.Linear(512, num_classes)\n",
        "\n",
        "    def forward(self, x):\n",
        "        x = self.pool(F.relu(self.conv1(x)))\n",
        "        x = self.pool(F.relu(self.conv2(x)))\n",
        "        x = self.pool(F.relu(self.conv3(x)))\n",
        "        x = torch.flatten(x, start_dim=1)\n",
        "        x = F.relu(self.fc1(x))\n",
        "        x = self.fc2(x)\n",
        "        return x\n",
        "\n",
        "def preprocess(path: str):\n",
        "    \"\"\"Preprocesa el archivo EEG y lo convierte en tensor\"\"\"\n",
        "    channels_to_remove = ['EEG Cz-Ref', 'EEG Pz-Ref', 'ECG EKG', 'Manual']\n",
        "    data = mne.io.read_raw_edf(path, preload=True)\n",
        "    channels = data.ch_names\n",
        "    indices_to_remove = [i for i, ch in enumerate(channels) if ch in channels_to_remove]\n",
        "    raw_data = np.array(data.get_data())\n",
        "\n",
        "    while raw_data.shape[0] > 19 and indices_to_remove:\n",
        "        raw_data = np.delete(raw_data, indices_to_remove.pop(), axis=0)\n",
        "\n",
        "    if raw_data.shape[0] > 19:\n",
        "        raw_data = raw_data[:19, :]\n",
        "    elif raw_data.shape[0] < 19:\n",
        "        raw_data = np.vstack((raw_data, np.zeros((19 - raw_data.shape[0], raw_data.shape[1]))))\n",
        "\n",
        "    num_samples = raw_data.shape[1]\n",
        "    segment_size = 500\n",
        "    N = num_samples // segment_size\n",
        "    segmented_data = raw_data[:, :N * segment_size].reshape(N, 19, 500)\n",
        "    tensor_data = torch.tensor(segmented_data, dtype=torch.float32)\n",
        "    return tensor_data\n",
        "\n",
        "def predecir(modelo, entrada):\n",
        "    \"\"\"Hace la predicción con el modelo\"\"\"\n",
        "    modelo.eval()\n",
        "    with torch.no_grad():\n",
        "        salida = modelo(entrada)\n",
        "        prediccion = torch.argmax(salida, dim=1)\n",
        "    return prediccion.item()\n",
        "\n",
        "def iniciar(path: str):\n",
        "    \"\"\"Carga el modelo desde Drive, preprocesa y predice\"\"\"\n",
        "    data = preprocess(path)\n",
        "\n",
        "    # 🔹 Cargar el modelo desde Google Drive\n",
        "    modelo_cargado = torch.load(MODEL_PATH, map_location=torch.device('cpu'))\n",
        "\n",
        "    salida=[]\n",
        "    for i in range(data.shape[0]):\n",
        "      salida.append( predecir(modelo_cargado, data[i].unsqueeze(0).unsqueeze(0) ))\n",
        "\n",
        "    if sum(salida)>0:\n",
        "      return 'Se detecta epilepsia en EEG'\n",
        "    else:\n",
        "      return 'No se detecta epilepsia en EEG'\n",
        "\n"
      ],
      "metadata": {
        "colab": {
          "base_uri": "https://localhost:8080/"
        },
        "id": "B1E7_riH7aiP",
        "outputId": "5436fbd4-68c2-4405-ca09-b9c93f34a94c"
      },
      "execution_count": 16,
      "outputs": [
        {
          "output_type": "stream",
          "name": "stdout",
          "text": [
            " * Serving Flask app '__main__'\n",
            " * Debug mode: off\n"
          ]
        },
        {
          "output_type": "stream",
          "name": "stderr",
          "text": [
            "Address already in use\n",
            "Port 5000 is in use by another program. Either identify and stop that program, or start the server with a different port.\n"
          ]
        }
      ]
    }
  ],
  "metadata": {
    "colab": {
      "provenance": [],
      "include_colab_link": true
    },
    "kernelspec": {
      "display_name": "Python 3",
      "name": "python3"
    }
  },
  "nbformat": 4,
  "nbformat_minor": 0
}